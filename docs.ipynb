{
 "cells": [
  {
   "cell_type": "markdown",
   "metadata": {},
   "source": [
    "بسم الله الرحمن الرحیم\n"
   ]
  },
  {
   "cell_type": "markdown",
   "metadata": {},
   "source": [
    "تقدیم به پیشگاه حضرت نرجس خاتون"
   ]
  },
  {
   "cell_type": "markdown",
   "metadata": {},
   "source": [
    "# Journal weblog"
   ]
  },
  {
   "cell_type": "markdown",
   "metadata": {},
   "source": [
    "A weblog for creating and studying articles by users"
   ]
  },
  {
   "cell_type": "markdown",
   "metadata": {},
   "source": [
    "## features:\n"
   ]
  },
  {
   "cell_type": "markdown",
   "metadata": {},
   "source": [
    "1. using : custom user "
   ]
  },
  {
   "cell_type": "markdown",
   "metadata": {},
   "source": [
    "2. signup, login, logout, change and reset password ability for users"
   ]
  },
  {
   "cell_type": "markdown",
   "metadata": {},
   "source": [
    "3. a page to show the list of articles"
   ]
  },
  {
   "cell_type": "markdown",
   "metadata": {},
   "source": [
    "4. create, show detail, update and delete each article"
   ]
  },
  {
   "cell_type": "markdown",
   "metadata": {},
   "source": [
    "5. handlign authorization"
   ]
  },
  {
   "cell_type": "markdown",
   "metadata": {},
   "source": [
    "6. writing comment"
   ]
  },
  {
   "cell_type": "markdown",
   "metadata": {},
   "source": [
    "7. writing appropriate test for each app"
   ]
  },
  {
   "cell_type": "markdown",
   "metadata": {},
   "source": [
    "## Step 1 : initializing the project"
   ]
  },
  {
   "cell_type": "markdown",
   "metadata": {},
   "source": [
    "initialize git , creating virtual environment, setup project, create .gitignore, requirement.txt , develop home page,change template dir"
   ]
  },
  {
   "cell_type": "markdown",
   "metadata": {},
   "source": [
    "## Step 2 : Implementing accounts app"
   ]
  },
  {
   "cell_type": "markdown",
   "metadata": {},
   "source": [
    "defining custom user model, login,logout,signup and writing tests"
   ]
  }
 ],
 "metadata": {
  "kernelspec": {
   "display_name": "Python 3.10.7 64-bit",
   "language": "python",
   "name": "python3"
  },
  "language_info": {
   "name": "python",
   "version": "3.10.7"
  },
  "orig_nbformat": 4,
  "vscode": {
   "interpreter": {
    "hash": "916dbcbb3f70747c44a77c7bcd40155683ae19c65e1c03b4aa3499c5328201f1"
   }
  }
 },
 "nbformat": 4,
 "nbformat_minor": 2
}
