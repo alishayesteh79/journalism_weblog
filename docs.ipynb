{
 "cells": [
  {
   "cell_type": "markdown",
   "metadata": {},
   "source": [
    "In the name of God"
   ]
  },
  {
   "cell_type": "markdown",
   "metadata": {},
   "source": [
    "# Journal weblog"
   ]
  },
  {
   "cell_type": "markdown",
   "metadata": {},
   "source": [
    "A weblog for creating and studying articles by users"
   ]
  },
  {
   "cell_type": "markdown",
   "metadata": {},
   "source": [
    "## features:\n"
   ]
  },
  {
   "cell_type": "markdown",
   "metadata": {},
   "source": [
    "1. using : custom user "
   ]
  },
  {
   "cell_type": "markdown",
   "metadata": {},
   "source": [
    "2. signup, login, logout, change and reset password ability for users"
   ]
  },
  {
   "cell_type": "markdown",
   "metadata": {},
   "source": [
    "3. a page to show the list of articles"
   ]
  },
  {
   "cell_type": "markdown",
   "metadata": {},
   "source": [
    "4. create, show detail, update and delete each article"
   ]
  },
  {
   "cell_type": "markdown",
   "metadata": {},
   "source": [
    "5. handlign authorization"
   ]
  },
  {
   "cell_type": "markdown",
   "metadata": {},
   "source": [
    "## Step 1 : initializing the project"
   ]
  },
  {
   "cell_type": "markdown",
   "metadata": {},
   "source": [
    "initialize git , creating virtual environment, setup project, create .gitignore, requirement.txt , develop home page,change template dir"
   ]
  },
  {
   "cell_type": "markdown",
   "metadata": {},
   "source": [
    "## Step 2 : Implementing accounts app"
   ]
  },
  {
   "cell_type": "markdown",
   "metadata": {},
   "source": [
    "defining custom user model, login,logout,signup, password change and password reset , writing tests for accounts app"
   ]
  },
  {
   "cell_type": "markdown",
   "metadata": {},
   "source": [
    "## Step 3 : Implementing articles app"
   ]
  },
  {
   "cell_type": "markdown",
   "metadata": {},
   "source": [
    "defining article model, implemeting articles list page, article detail page,article create page, article edit page, article delete page"
   ]
  },
  {
   "cell_type": "markdown",
   "metadata": {},
   "source": [
    "## Step 4 : handling authorizations"
   ]
  },
  {
   "cell_type": "markdown",
   "metadata": {},
   "source": [
    "set the author automatically to the requesting user in article creating page.\n",
    "just loged in users can access to article list,detail,create,update,delete pages.\n",
    "just author of an article can update or delete the article."
   ]
  }
 ],
 "metadata": {
  "kernelspec": {
   "display_name": "Python 3.10.7 64-bit",
   "language": "python",
   "name": "python3"
  },
  "language_info": {
   "name": "python",
   "version": "3.10.7"
  },
  "orig_nbformat": 4,
  "vscode": {
   "interpreter": {
    "hash": "916dbcbb3f70747c44a77c7bcd40155683ae19c65e1c03b4aa3499c5328201f1"
   }
  }
 },
 "nbformat": 4,
 "nbformat_minor": 2
}
